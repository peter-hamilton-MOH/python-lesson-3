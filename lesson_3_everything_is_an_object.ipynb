{
 "cells": [
  {
   "cell_type": "markdown",
   "id": "e464bbd9",
   "metadata": {
    "slideshow": {
     "slide_type": "slide"
    }
   },
   "source": [
    "### <center><h2>Lesson 3: Everything is an Object</h2></center>"
   ]
  },
  {
   "cell_type": "markdown",
   "id": "26e1808c",
   "metadata": {
    "slideshow": {
     "slide_type": "slide"
    }
   },
   "source": [
    "<center><h3>What is an object?</h3></center>"
   ]
  },
  {
   "cell_type": "markdown",
   "id": "aac3ba8f",
   "metadata": {
    "slideshow": {
     "slide_type": "slide"
    }
   },
   "source": [
    "<center><img src=\"./images/apple_object.png\" alt=\"apple\" width=\"600\" /></center>"
   ]
  },
  {
   "cell_type": "markdown",
   "id": "880cb3c4",
   "metadata": {
    "slideshow": {
     "slide_type": "slide"
    }
   },
   "source": [
    "<center><h3>Objects are defined with a class.</h3></center>"
   ]
  },
  {
   "cell_type": "markdown",
   "id": "5e43a29b",
   "metadata": {
    "slideshow": {
     "slide_type": "slide"
    }
   },
   "source": [
    "<center><img src=\"./images/car-01.png\" alt=\"car\" width=\"800\" /></center>"
   ]
  },
  {
   "cell_type": "markdown",
   "id": "d6872686",
   "metadata": {
    "slideshow": {
     "slide_type": "slide"
    }
   },
   "source": [
    "#### Simple Class Definition"
   ]
  },
  {
   "cell_type": "code",
   "execution_count": null,
   "id": "50db9fa8",
   "metadata": {
    "slideshow": {
     "slide_type": "fragment"
    }
   },
   "outputs": [],
   "source": [
    "class Car:\n",
    "    \n",
    "    # Attribute\n",
    "    color = 'red'\n",
    "    \n",
    "    # Method\n",
    "    def honk(self):\n",
    "        print('Honk!')"
   ]
  },
  {
   "cell_type": "code",
   "execution_count": null,
   "id": "b63acaaf",
   "metadata": {
    "slideshow": {
     "slide_type": "fragment"
    }
   },
   "outputs": [],
   "source": [
    "my_car = Car()\n",
    "my_car.honk()\n",
    "print(my_car.color)"
   ]
  },
  {
   "cell_type": "markdown",
   "id": "4e4c17bb",
   "metadata": {
    "slideshow": {
     "slide_type": "slide"
    }
   },
   "source": [
    "<center><h3>What's the self for?</h3></center>"
   ]
  },
  {
   "cell_type": "markdown",
   "id": "6e86d0a7",
   "metadata": {
    "slideshow": {
     "slide_type": "slide"
    }
   },
   "source": [
    "<center><img src=\"./images/apple_self.png\" alt=\"apple\" width=\"350\" /></center>"
   ]
  },
  {
   "cell_type": "markdown",
   "id": "83cd2d9c",
   "metadata": {
    "slideshow": {
     "slide_type": "slide"
    }
   },
   "source": [
    "#### Constructors"
   ]
  },
  {
   "cell_type": "code",
   "execution_count": null,
   "id": "5b2ddd03",
   "metadata": {
    "slideshow": {
     "slide_type": "fragment"
    }
   },
   "outputs": [],
   "source": [
    "class Point2D:\n",
    "    \n",
    "    # Constructor\n",
    "    def __init__(self, x: float, y: float):\n",
    "        self.x = x\n",
    "        self.y = y"
   ]
  },
  {
   "cell_type": "code",
   "execution_count": null,
   "id": "8c68f377",
   "metadata": {
    "slideshow": {
     "slide_type": "fragment"
    }
   },
   "outputs": [],
   "source": [
    "my_point = Point2D(12.3, 4.56)\n",
    "print(my_point.x)\n",
    "print(my_point.y)"
   ]
  },
  {
   "cell_type": "markdown",
   "id": "665d83d7",
   "metadata": {
    "slideshow": {
     "slide_type": "slide"
    }
   },
   "source": [
    "#### Built-in Classes"
   ]
  },
  {
   "cell_type": "code",
   "execution_count": null,
   "id": "a26ad258",
   "metadata": {
    "slideshow": {
     "slide_type": "fragment"
    }
   },
   "outputs": [],
   "source": [
    "pi = float(3.14159)\n",
    "branch_name = str('HDSB')\n",
    "days_in_a_year = int(365)\n",
    "days_of_weekend = list(('Saturday', 'Sunday'))\n",
    "coordinates = tuple((400, 'north', 300, 'west'))\n",
    "definitions = dict((('Pizza', 'Tasty'), ('Donuts', 'Delicious')))\n",
    "\n",
    "print(type(pi))\n",
    "print(type(branch_name))\n",
    "print(type(days_in_a_year))\n",
    "print(type(days_of_weekend))\n",
    "print(type(coordinates))\n",
    "print(type(definitions))"
   ]
  },
  {
   "cell_type": "code",
   "execution_count": null,
   "id": "e3385a85",
   "metadata": {
    "slideshow": {
     "slide_type": "slide"
    }
   },
   "outputs": [],
   "source": [
    "pi = 3.14159\n",
    "branch_name = 'HDSB'\n",
    "days_in_a_year = 365\n",
    "days_of_weekend = ['Saturday', 'Sunday']\n",
    "coordinates = (400, 'north', 300, 'west')\n",
    "definitions = {'Pizza': 'Tasty', 'Donuts': 'Delicious'}\n",
    "\n",
    "print(type(pi))\n",
    "print(type(branch_name))\n",
    "print(type(days_in_a_year))\n",
    "print(type(days_of_weekend))\n",
    "print(type(coordinates))\n",
    "print(type(definitions))"
   ]
  },
  {
   "cell_type": "markdown",
   "id": "05bdb8f8",
   "metadata": {
    "slideshow": {
     "slide_type": "slide"
    }
   },
   "source": [
    "#### Access Modifiers"
   ]
  },
  {
   "cell_type": "code",
   "execution_count": null,
   "id": "9d54fd75",
   "metadata": {
    "slideshow": {
     "slide_type": "fragment"
    }
   },
   "outputs": [],
   "source": [
    "# These are mostly naming conventions to indicate to others\n",
    "# whether or not they are intended to be used outside the class\n",
    "\n",
    "import random\n",
    "class MagicEightBall:\n",
    "    _fortunes = [\"No way\",\"Good idea\",\"Try again\"] # Protected access\n",
    "    __secret_fortunes = [\"👎\",\"👍\",\"👽\"] # Private access\n",
    "        \n",
    "    def print_fortune(self, super_secret=False): # Public access, ie this is what you're supposed to interact with as a consumer\n",
    "        fortune = self.__get_random_secret_fortune() if super_secret else self._get_random_fortune()\n",
    "        print(fortune)\n",
    "        \n",
    "    def _get_random_fortune(self) -> str:\n",
    "        return self._fortunes[random.randint(0,2)]\n",
    "    \n",
    "    def __get_random_secret_fortune(self) -> str:\n",
    "        return self.__secret_fortunes[random.randint(0,2)]\n",
    "\n",
    "magic_eight_ball = MagicEightBall()\n",
    "magic_eight_ball.print_fortune()\n",
    "# magic_eight_ball._fortunes\n",
    "# magic_eight_ball._MagicEightBall__secret_fortunes"
   ]
  },
  {
   "cell_type": "markdown",
   "id": "8df84d3b",
   "metadata": {
    "slideshow": {
     "slide_type": "slide"
    }
   },
   "source": [
    "#### Dunder Methods aka Magic Methods"
   ]
  },
  {
   "cell_type": "code",
   "execution_count": null,
   "id": "ea51c8bc",
   "metadata": {
    "slideshow": {
     "slide_type": "fragment"
    }
   },
   "outputs": [],
   "source": [
    "class PaperCompany:\n",
    "    def __init__(self, location: str): # __init__ is called upon object construction\n",
    "        self.location = location\n",
    "    \n",
    "    def __str__(self):\n",
    "        return \"A class for describing a paper company.\"\n",
    "    \n",
    "    def __add__(self, other):\n",
    "        self.location += \" / \" + other.location\n",
    "        return self\n",
    "    \n",
    "mifflin_corporation = PaperCompany('Scranton')\n",
    "raywell_corporation = PaperCompany('Toronto')\n",
    "raywell_mifflin_corporation = raywell_corporation + mifflin_corporation # __add__ gets called with the + operator is used\n",
    "\n",
    "print(raywell_mifflin_corporation.location)\n",
    "# str(mifflin_corporation) # __str__ gets called when the class is converted to a string"
   ]
  },
  {
   "cell_type": "markdown",
   "id": "f8af1df2",
   "metadata": {
    "slideshow": {
     "slide_type": "slide"
    }
   },
   "source": [
    "#### Static Methods"
   ]
  },
  {
   "cell_type": "code",
   "execution_count": null,
   "id": "b6d04fea",
   "metadata": {
    "slideshow": {
     "slide_type": "fragment"
    }
   },
   "outputs": [],
   "source": [
    "# These are great for libraries 'pure functions' ie functions that take an input\n",
    "# and provide an output but do not modify any internal state of the class\n",
    "\n",
    "class Math():\n",
    "    \n",
    "    @staticmethod\n",
    "    def sum(a: int, b: int):\n",
    "        return a + b"
   ]
  },
  {
   "cell_type": "code",
   "execution_count": null,
   "id": "24ec0337",
   "metadata": {
    "slideshow": {
     "slide_type": "fragment"
    }
   },
   "outputs": [],
   "source": [
    "Math.sum(5,5) # Note that we do not require an instance of the Math class, we can call the function directly"
   ]
  },
  {
   "cell_type": "markdown",
   "id": "b91fe22c",
   "metadata": {
    "slideshow": {
     "slide_type": "slide"
    }
   },
   "source": [
    "#### Inheritance Example"
   ]
  },
  {
   "cell_type": "code",
   "execution_count": null,
   "id": "0b77d2be",
   "metadata": {
    "slideshow": {
     "slide_type": "fragment"
    }
   },
   "outputs": [],
   "source": [
    "# Parent class\n",
    "class OPSEmployee:\n",
    "    def eat(self):\n",
    "        print('Yum!')\n",
    "\n",
    "# Child class - this will 'inherit' any functionality from the parent\n",
    "# and allow you to extend it beyond it's original functionality\n",
    "class HDSBEmployee(OPSEmployee):\n",
    "    pass"
   ]
  },
  {
   "cell_type": "code",
   "execution_count": null,
   "id": "a3ab920d",
   "metadata": {
    "slideshow": {
     "slide_type": "fragment"
    }
   },
   "outputs": [],
   "source": [
    "me = HDSBEmployee()\n",
    "me.eat()"
   ]
  },
  {
   "cell_type": "markdown",
   "id": "39fe6a95",
   "metadata": {
    "slideshow": {
     "slide_type": "slide"
    }
   },
   "source": [
    "#### Inheritance Override Example"
   ]
  },
  {
   "cell_type": "code",
   "execution_count": null,
   "id": "18a06572",
   "metadata": {
    "slideshow": {
     "slide_type": "fragment"
    }
   },
   "outputs": [],
   "source": [
    "class OPSEmployee:\n",
    "    def eat(self):\n",
    "        print('Yum!')\n",
    "\n",
    "class HAIBEmployee(OPSEmployee):\n",
    "    def eat(self):\n",
    "        super().eat()\n",
    "        print('Thanks for the food!')"
   ]
  },
  {
   "cell_type": "code",
   "execution_count": null,
   "id": "bc5dc998",
   "metadata": {
    "slideshow": {
     "slide_type": "fragment"
    }
   },
   "outputs": [],
   "source": [
    "me = HAIBEmployee()\n",
    "me.eat()"
   ]
  },
  {
   "cell_type": "markdown",
   "id": "2ef9705c",
   "metadata": {
    "slideshow": {
     "slide_type": "slide"
    }
   },
   "source": [
    "#### Classes Are a Great Way to Model Real World Problems"
   ]
  },
  {
   "cell_type": "code",
   "execution_count": null,
   "id": "8b108c56",
   "metadata": {
    "slideshow": {
     "slide_type": "slide"
    }
   },
   "outputs": [],
   "source": [
    "import random\n",
    "import matplotlib.pyplot as plt\n",
    "        \n",
    "class Coin:\n",
    "    \n",
    "    def __init__(self):\n",
    "            self.t_count, self.h_count, self.odds = 0, 0, []\n",
    "            \n",
    "    def flip(self):\n",
    "        if random.randint(0,1):\n",
    "            self.t_count += 1\n",
    "        else:\n",
    "            self.h_count += 1\n",
    "        total = self.t_count + self.h_count\n",
    "        self.odds.append([self.t_count / total, self.h_count / total])\n",
    "\n",
    "class Simulator:\n",
    "    \n",
    "    def run_simulation(self, n_iterations):\n",
    "        self._coin = Coin()\n",
    "        for _ in range(n_iterations):\n",
    "            self._coin.flip()\n",
    "    \n",
    "    def plot_results(self):\n",
    "        odds = self._coin.odds\n",
    "        plt.plot(range(len(odds)), odds, label=[\"Tails\", \"Heads\"])\n",
    "        plt.title(f'Odds Over {len(odds)} Flips')\n",
    "        plt.xlabel('Flip Number')\n",
    "        plt.ylabel('Odds')\n",
    "        plt.legend()\n",
    "        \n",
    "simulator = Simulator()\n",
    "simulator.run_simulation(100)\n",
    "simulator.plot_results()"
   ]
  },
  {
   "cell_type": "markdown",
   "id": "477fd814",
   "metadata": {
    "slideshow": {
     "slide_type": "slide"
    }
   },
   "source": [
    "<center><h3>Exercise - A Random Walk</h3></center>"
   ]
  },
  {
   "cell_type": "markdown",
   "id": "9aa91b20",
   "metadata": {
    "slideshow": {
     "slide_type": "slide"
    }
   },
   "source": [
    "<center><img src=\"./illustration_pngs/random_walk_single.png\" width=\"40%\" /></center>"
   ]
  },
  {
   "cell_type": "markdown",
   "id": "8fab2f6a",
   "metadata": {
    "slideshow": {
     "slide_type": "slide"
    }
   },
   "source": [
    "<center><img src=\"./illustration_pngs/random_walk_multiple.png\" width=\"40%\" /></center>"
   ]
  },
  {
   "cell_type": "code",
   "execution_count": null,
   "id": "360f4c43",
   "metadata": {
    "slideshow": {
     "slide_type": "skip"
    }
   },
   "outputs": [],
   "source": [
    "import random\n",
    "import matplotlib.pyplot as plt\n",
    "import math\n",
    "   \n",
    "class Walker:\n",
    "    \n",
    "    def __init__(self):\n",
    "        self.steps = [0]\n",
    "    \n",
    "    def step(self):\n",
    "        next_step = 1 if random.randint(0,1) else -1\n",
    "        self.steps.append(self.steps[-1] + next_step)\n",
    "\n",
    "class Simulation:\n",
    "    \n",
    "    def run_simulation(self, n_iterations):\n",
    "        self._walker = Walker()\n",
    "        for _ in range(n_iterations - 1):\n",
    "            self._walker.step()\n",
    "    \n",
    "    def plot_results(self):\n",
    "        num_steps = len(self._walker.steps)\n",
    "        plt.figure(figsize=(20, 15))\n",
    "        plt.plot(range(num_steps), self._walker.steps)\n",
    "        plt.title(f\"Random Walk Simulation ({num_steps} steps)\")\n",
    "        plt.xlabel(\"Step Number\")\n",
    "        plt.ylabel(\"Position\")\n",
    "        plt.show()\n",
    "\n",
    "sim = Simulation()\n",
    "sim.run_simulation(250)\n",
    "sim.plot_results()"
   ]
  },
  {
   "cell_type": "code",
   "execution_count": null,
   "id": "6455e557",
   "metadata": {
    "slideshow": {
     "slide_type": "skip"
    }
   },
   "outputs": [],
   "source": [
    "import random\n",
    "import matplotlib.pyplot as plt\n",
    "import math\n",
    "   \n",
    "class Walker:\n",
    "    \n",
    "    def __init__(self):\n",
    "        self.steps = [0]\n",
    "    \n",
    "    def step(self):\n",
    "        next_step = 1 if random.randint(0,1) else -1\n",
    "        self.steps.append(self.steps[-1] + next_step)\n",
    "\n",
    "class Simulation:\n",
    "    \n",
    "    def run_simulation(self, n_iterations, n_walks):\n",
    "        self._walkers = []\n",
    "        for walk in range(n_walks):\n",
    "            w = Walker()\n",
    "            self._walkers.append(w)\n",
    "            for _ in range(n_iterations - 1):\n",
    "                w.step()\n",
    "    \n",
    "    def plot_results(self):\n",
    "        num_steps = len(self._walkers[0].steps)\n",
    "        plt.figure(figsize=(20, 15))\n",
    "        for walker in self._walkers:\n",
    "            plt.plot(range(num_steps), walker.steps)\n",
    "        plt.title(f\"Random Walk Simulation ({num_steps} steps)\")\n",
    "        plt.xlabel(\"Step Number\")\n",
    "        plt.ylabel(\"Position\")\n",
    "        plt.show()\n",
    "\n",
    "sim = Simulation()\n",
    "sim.run_simulation(250, 100)\n",
    "sim.plot_results()"
   ]
  }
 ],
 "metadata": {
  "celltoolbar": "Slideshow",
  "kernelspec": {
   "display_name": "Python 3 (ipykernel)",
   "language": "python",
   "name": "python3"
  },
  "language_info": {
   "codemirror_mode": {
    "name": "ipython",
    "version": 3
   },
   "file_extension": ".py",
   "mimetype": "text/x-python",
   "name": "python",
   "nbconvert_exporter": "python",
   "pygments_lexer": "ipython3",
   "version": "3.8.5"
  }
 },
 "nbformat": 4,
 "nbformat_minor": 5
}
